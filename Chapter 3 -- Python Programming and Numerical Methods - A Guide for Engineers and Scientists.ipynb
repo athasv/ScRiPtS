{
 "cells": [
  {
   "cell_type": "code",
   "execution_count": 1,
   "metadata": {},
   "outputs": [
    {
     "name": "stdout",
     "output_type": "stream",
     "text": [
      "0.0\n",
      "1.1752011936438014\n",
      "3.6268604078470186\n"
     ]
    }
   ],
   "source": [
    "#Recall that the hyperbolic sine, denoted by sinh, is exp (x)−exp (−x)\n",
    "#Write a function my_sinh(x)\n",
    "#where the output y is the hyperbolic sine computed on x. \n",
    "#Assume that x is a 1 by 1 float.\n",
    "def my_sinh(x):\n",
    "    import math, numpy\n",
    "    y = math.sinh(x)\n",
    "    print(y)\n",
    "\n",
    "my_sinh(0)\n",
    "my_sinh(1)\n",
    "my_sinh(2)"
   ]
  },
  {
   "cell_type": "code",
   "execution_count": null,
   "metadata": {},
   "outputs": [],
   "source": [
    "#Write a function my_checker_board(n) where the output m is an n × n array \n",
    "#with the following form:\n",
    "#m =\n",
    "#10101\n",
    "#01010\n",
    "#10101\n",
    "#01010\n",
    "#10101\n",
    "#Note that the upper-left element should always be 1. \n",
    "#Assume that n is a strictly positive integer. \n",
    "\n",
    "\n",
    "\n"
   ]
  },
  {
   "cell_type": "code",
   "execution_count": 30,
   "metadata": {
    "scrolled": true
   },
   "outputs": [
    {
     "name": "stdout",
     "output_type": "stream",
     "text": [
      "Checkerboard pattern:\n",
      "[[0 1 0 1 0 1 0 1]\n",
      " [1 0 1 0 1 0 1 0]\n",
      " [0 1 0 1 0 1 0 1]\n",
      " [1 0 1 0 1 0 1 0]\n",
      " [0 1 0 1 0 1 0 1]\n",
      " [1 0 1 0 1 0 1 0]\n",
      " [0 1 0 1 0 1 0 1]\n",
      " [1 0 1 0 1 0 1 0]]\n"
     ]
    }
   ],
   "source": [
    "import numpy as np\n",
    "x = np.ones((3,3))\n",
    "print(\"Checkerboard pattern:\")\n",
    "x = np.zeros((8,8),dtype=int)\n",
    "x[::2,1::2] = 1\n",
    "x[1::2,::2] = 1\n",
    "print(x)"
   ]
  },
  {
   "cell_type": "code",
   "execution_count": 35,
   "metadata": {},
   "outputs": [
    {
     "name": "stdout",
     "output_type": "stream",
     "text": [
      "[[ 1  2  3]\n",
      " [ 4  5  6]\n",
      " [ 7  8  9]\n",
      " [10 11 12]]\n"
     ]
    }
   ],
   "source": [
    "import numpy as np\n",
    "x = np.array([[1,2,3], [4,5,6], [7,8,9], [10,11,12]])\n",
    "print(x)"
   ]
  },
  {
   "cell_type": "code",
   "execution_count": 39,
   "metadata": {},
   "outputs": [
    {
     "name": "stdout",
     "output_type": "stream",
     "text": [
      "[[1 2 3]\n",
      " [7 8 9]]\n",
      "[[ 4  5  6]\n",
      " [10 11 12]]\n",
      "''''''\n",
      "[[ 1  2  3]\n",
      " [10 11 12]]\n",
      "''''''\n",
      "[[ 4  6]\n",
      " [10 12]]\n",
      "[[2]\n",
      " [8]]\n"
     ]
    }
   ],
   "source": [
    "print(x[::2])\n",
    "print(x[1::2])\n",
    "print(\"''''''\")\n",
    "print(x[::3])\n",
    "print(\"''''''\")\n",
    "print(x[1::2,::2])\n",
    "print(x[::2,1::2])"
   ]
  },
  {
   "cell_type": "code",
   "execution_count": 34,
   "metadata": {},
   "outputs": [
    {
     "name": "stdout",
     "output_type": "stream",
     "text": [
      "[[1 0]\n",
      " [0 1]\n",
      " [1 0]]\n"
     ]
    }
   ],
   "source": [
    "import numpy as np \n",
    "def printcheckboard(n): \n",
    "    final = [] \n",
    "    for i in range(n): \n",
    "        final.append(list(np.tile([1,0],int(n/2))) if i%2==0 else list(np.tile([0,1],int(n/2)))) \n",
    "    print(np.array(final)) \n",
    "  \n",
    "  \n",
    "# driver code \n",
    "n = 3\n",
    "printcheckboard(n)"
   ]
  },
  {
   "cell_type": "code",
   "execution_count": null,
   "metadata": {},
   "outputs": [],
   "source": []
  }
 ],
 "metadata": {
  "kernelspec": {
   "display_name": "Python 3",
   "language": "python",
   "name": "python3"
  },
  "language_info": {
   "codemirror_mode": {
    "name": "ipython",
    "version": 3
   },
   "file_extension": ".py",
   "mimetype": "text/x-python",
   "name": "python",
   "nbconvert_exporter": "python",
   "pygments_lexer": "ipython3",
   "version": "3.7.6"
  }
 },
 "nbformat": 4,
 "nbformat_minor": 4
}
