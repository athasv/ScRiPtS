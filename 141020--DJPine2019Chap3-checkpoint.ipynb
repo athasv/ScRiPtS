{
 "cells": [
  {
   "cell_type": "code",
   "execution_count": 7,
   "metadata": {},
   "outputs": [],
   "source": [
    "import numpy as np"
   ]
  },
  {
   "cell_type": "markdown",
   "metadata": {},
   "source": [
    "Create an array of **9** *evenly spaced* numbers going from **0** to **29** (inclusive) and give it the variable name r. \n",
    "* Find the *square of each element of the array* (as simply as possible). \n",
    "* Find *twice the value of each element of the array* in two different ways: \n",
    "    * (i) using addition and \n",
    "    * (ii) using multiplication. \n",
    "* Print out the array r and each output requested above"
   ]
  },
  {
   "cell_type": "raw",
   "metadata": {},
   "source": [
    "r = np.arange([1,29,1])"
   ]
  },
  {
   "cell_type": "code",
   "execution_count": 42,
   "metadata": {},
   "outputs": [],
   "source": [
    "#sqrtr = [print(\"for the element:\", i , \"the value is: \",i**2) for i in r]\n",
    "sqrtr = [i**2 for i in r]"
   ]
  },
  {
   "cell_type": "code",
   "execution_count": 48,
   "metadata": {},
   "outputs": [],
   "source": [
    "r = np.arange(30)"
   ]
  },
  {
   "cell_type": "code",
   "execution_count": 50,
   "metadata": {},
   "outputs": [],
   "source": [
    "sqrtr = [i**2 for i in r]"
   ]
  },
  {
   "cell_type": "code",
   "execution_count": null,
   "metadata": {},
   "outputs": [],
   "source": []
  }
 ],
 "metadata": {
  "kernelspec": {
   "display_name": "Python 3",
   "language": "python",
   "name": "python3"
  },
  "language_info": {
   "codemirror_mode": {
    "name": "ipython",
    "version": 3
   },
   "file_extension": ".py",
   "mimetype": "text/x-python",
   "name": "python",
   "nbconvert_exporter": "python",
   "pygments_lexer": "ipython3",
   "version": "3.7.6"
  }
 },
 "nbformat": 4,
 "nbformat_minor": 4
}
