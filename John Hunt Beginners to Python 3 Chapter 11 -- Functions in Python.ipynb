{
 "cells": [
  {
   "cell_type": "code",
   "execution_count": 4,
   "metadata": {},
   "outputs": [],
   "source": [
    "def get_input(message):\n",
    "    \"\"\"\n",
    "    @param message = print the message given when using the function\"\"\"\n",
    "    value_as_string = input(message)\n",
    "    while not value_as_string.isnumeric():\n",
    "        print('Invalid ')\n",
    "        value_as_string = input(message)\n",
    "        return int(value_as_string)"
   ]
  },
  {
   "cell_type": "code",
   "execution_count": 7,
   "metadata": {},
   "outputs": [
    {
     "name": "stdout",
     "output_type": "stream",
     "text": [
      "\n",
      "    @param message = print the message given when using the function\n"
     ]
    }
   ],
   "source": [
    "print(get_input.__doc__)"
   ]
  },
  {
   "cell_type": "code",
   "execution_count": 12,
   "metadata": {},
   "outputs": [],
   "source": [
    "# checking name functions with predifined parameter values/data\n",
    "def greeting(name = 'Eample name here', message = 'Example message here'):\n",
    "    print('the name is: ', name, 'and the message is: ', message)"
   ]
  },
  {
   "cell_type": "code",
   "execution_count": 13,
   "metadata": {},
   "outputs": [
    {
     "name": "stdout",
     "output_type": "stream",
     "text": [
      "the name is:  Eample name here and the message is:  Example message here\n",
      "None\n"
     ]
    }
   ],
   "source": [
    "print(greeting())"
   ]
  },
  {
   "cell_type": "code",
   "execution_count": 14,
   "metadata": {},
   "outputs": [
    {
     "name": "stdout",
     "output_type": "stream",
     "text": [
      "the name is:  Mark and the message is:  Rusty Bros\n",
      "None\n"
     ]
    }
   ],
   "source": [
    "print(greeting('Mark','Rusty Bros'))"
   ]
  },
  {
   "cell_type": "code",
   "execution_count": 15,
   "metadata": {},
   "outputs": [
    {
     "name": "stdout",
     "output_type": "stream",
     "text": [
      "the name is:  Mark and the message is:  Example message here\n",
      "None\n"
     ]
    }
   ],
   "source": [
    "print(greeting('Mark'))"
   ]
  },
  {
   "cell_type": "markdown",
   "metadata": {},
   "source": [
    "<b>To define a parameter list as being of arbitrary length, a parameter is marked with an asterisk (*)</b>"
   ]
  },
  {
   "cell_type": "code",
   "execution_count": 16,
   "metadata": {},
   "outputs": [],
   "source": [
    "def letnum(*args):\n",
    "    for i in args:\n",
    "        print('The number is: ', i)"
   ]
  },
  {
   "cell_type": "code",
   "execution_count": 17,
   "metadata": {},
   "outputs": [
    {
     "name": "stdout",
     "output_type": "stream",
     "text": [
      "The number is:  100\n",
      "The number is:  2234234\n",
      "The number is:  4353453\n",
      "The number is:  234\n",
      "The number is:  234324\n"
     ]
    }
   ],
   "source": [
    "letnum(100,2234234,4353453,234,234324)"
   ]
  },
  {
   "cell_type": "code",
   "execution_count": 35,
   "metadata": {},
   "outputs": [],
   "source": [
    "def print_name_surnmame(*args):\n",
    "    \"\"\"Each time *args gets one input for the parameters so args1 and args2 are receiving the values separately and the star\n",
    "    keeps the length of the input in an arbitrary matter\"\"\"\n",
    "    args1 = input('Enter your name: ')\n",
    "    args2 = input('Enter your surname: ')\n",
    "    print('Your full name is: ', args1, '', args2)"
   ]
  },
  {
   "cell_type": "code",
   "execution_count": 36,
   "metadata": {},
   "outputs": [
    {
     "name": "stdout",
     "output_type": "stream",
     "text": [
      "Enter your name: 12\n",
      "Enter your surname: 12\n",
      "Your full name is:  12  12\n"
     ]
    }
   ],
   "source": [
    "zoom = print_name_surnmame()"
   ]
  },
  {
   "cell_type": "code",
   "execution_count": 44,
   "metadata": {},
   "outputs": [],
   "source": [
    "def print_name_surname_multiple(**kwargs):\n",
    "    args1 = input('Enter your name: ')\n",
    "    args2 = input('Enter your surname: ')\n",
    "    print('Your full name is: ', args1, '', args2)"
   ]
  },
  {
   "cell_type": "code",
   "execution_count": 46,
   "metadata": {},
   "outputs": [
    {
     "name": "stdout",
     "output_type": "stream",
     "text": [
      "Enter your name: Loko, boko\n",
      "Enter your surname: moko\n",
      "Your full name is:  Loko, boko  moko\n"
     ]
    }
   ],
   "source": [
    "zoomi = print_name_surname_multiple()"
   ]
  },
  {
   "cell_type": "code",
   "execution_count": 49,
   "metadata": {},
   "outputs": [],
   "source": [
    "def myFun(arg1, **kwargs):  \n",
    "    for key, value in kwargs.items(): \n",
    "        print (\"%s = %s\" %(key, value)) "
   ]
  },
  {
   "cell_type": "code",
   "execution_count": 50,
   "metadata": {},
   "outputs": [
    {
     "name": "stdout",
     "output_type": "stream",
     "text": [
      "first = Geeks\n",
      "mid = for\n",
      "last = Geeks\n"
     ]
    }
   ],
   "source": [
    "myFun(\"Hi\", first ='Geeks', mid ='for', last='Geeks')     "
   ]
  },
  {
   "cell_type": "code",
   "execution_count": 53,
   "metadata": {},
   "outputs": [],
   "source": [
    "#anonymous function\n",
    "func1  = lambda x: x * x\n"
   ]
  },
  {
   "cell_type": "markdown",
   "metadata": {},
   "source": [
    "* Exercise 1"
   ]
  },
  {
   "cell_type": "code",
   "execution_count": 13,
   "metadata": {},
   "outputs": [],
   "source": [
    "# You could create a function to obtain input from the user.\n",
    "def get_input():\n",
    "    temp = int(input('Enter a number: '))\n",
    "    print(temp)"
   ]
  },
  {
   "cell_type": "code",
   "execution_count": 15,
   "metadata": {},
   "outputs": [
    {
     "name": "stdout",
     "output_type": "stream",
     "text": [
      "Enter a number: 100\n",
      "100\n"
     ]
    }
   ],
   "source": [
    "get_input()"
   ]
  },
  {
   "cell_type": "markdown",
   "metadata": {},
   "source": [
    "* Exercise 2,3,4"
   ]
  },
  {
   "cell_type": "code",
   "execution_count": 3,
   "metadata": {},
   "outputs": [
    {
     "name": "stdout",
     "output_type": "stream",
     "text": [
      "Welcone to the game of guess! Now, you can try your numbers to guess the correct answer!\n",
      "Enter guess number2\n",
      "Not correct\n",
      "You got lower number\n",
      "Guess new number 3\n",
      "Well done you won!\n",
      "You took 2 goes to complete the game\n",
      "Game Over\n"
     ]
    }
   ],
   "source": [
    "#You could create another function that will implement the main game playing loop.\n",
    "import random\n",
    "\n",
    "print('Welcone to the game of guess! Now, you can try your numbers to guess the correct answer!')\n",
    "number_to_guess = random.randint(1,5)\n",
    "count_number_of_tries = 1\n",
    "guess = int(input(\"Enter guess number\"))\n",
    "\n",
    "while number_to_guess != guess:\n",
    "    print('Not correct')\n",
    "    if count_number_of_tries == 30:\n",
    "        break\n",
    "    elif guess < number_to_guess:\n",
    "        print(\"You got lower number\")\n",
    "    else:\n",
    "        print(\"You got higher number\")\n",
    "    guess = int(input(\"Guess new number \"))\n",
    "    count_number_of_tries += 1\n",
    "\n",
    "if number_to_guess == guess:\n",
    "    print('Well done you won!')\n",
    "    print('You took', count_number_of_tries , 'goes to complete the game')\n",
    "else:\n",
    "    print(\"Sorry - you loose\")\n",
    "    print('The number you needed to guess was', number_to_guess)\n",
    "print('Game Over')"
   ]
  },
  {
   "cell_type": "code",
   "execution_count": null,
   "metadata": {},
   "outputs": [],
   "source": []
  },
  {
   "cell_type": "code",
   "execution_count": null,
   "metadata": {},
   "outputs": [],
   "source": []
  }
 ],
 "metadata": {
  "kernelspec": {
   "display_name": "Python 3",
   "language": "python",
   "name": "python3"
  },
  "language_info": {
   "codemirror_mode": {
    "name": "ipython",
    "version": 3
   },
   "file_extension": ".py",
   "mimetype": "text/x-python",
   "name": "python",
   "nbconvert_exporter": "python",
   "pygments_lexer": "ipython3",
   "version": "3.7.6"
  }
 },
 "nbformat": 4,
 "nbformat_minor": 4
}
