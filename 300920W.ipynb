{
 "cells": [
  {
   "cell_type": "code",
   "execution_count": 1,
   "metadata": {},
   "outputs": [],
   "source": [
    "import numpy as np"
   ]
  },
  {
   "cell_type": "code",
   "execution_count": 9,
   "metadata": {},
   "outputs": [],
   "source": [
    "a = np.zeros((1,3,4))"
   ]
  },
  {
   "cell_type": "code",
   "execution_count": 10,
   "metadata": {},
   "outputs": [
    {
     "name": "stdout",
     "output_type": "stream",
     "text": [
      "[[[0. 0. 0. 0.]\n",
      "  [0. 0. 0. 0.]\n",
      "  [0. 0. 0. 0.]]]\n"
     ]
    }
   ],
   "source": [
    "print(a)"
   ]
  },
  {
   "cell_type": "code",
   "execution_count": 11,
   "metadata": {},
   "outputs": [],
   "source": [
    "b=np.eye(3)"
   ]
  },
  {
   "cell_type": "code",
   "execution_count": 12,
   "metadata": {},
   "outputs": [
    {
     "name": "stdout",
     "output_type": "stream",
     "text": [
      "[[1. 0. 0.]\n",
      " [0. 1. 0.]\n",
      " [0. 0. 1.]]\n"
     ]
    }
   ],
   "source": [
    "print(b)"
   ]
  },
  {
   "cell_type": "code",
   "execution_count": 17,
   "metadata": {},
   "outputs": [],
   "source": [
    "c = np.array([[1,2,3],[2,4,5],[3,10,20]])"
   ]
  },
  {
   "cell_type": "code",
   "execution_count": 18,
   "metadata": {},
   "outputs": [
    {
     "name": "stdout",
     "output_type": "stream",
     "text": [
      "[[ 1  2  3]\n",
      " [ 2  4  5]\n",
      " [ 3 10 20]]\n"
     ]
    }
   ],
   "source": [
    "print(c)"
   ]
  },
  {
   "cell_type": "code",
   "execution_count": 27,
   "metadata": {},
   "outputs": [],
   "source": [
    "d=np.arange(1,10,1)\n",
    "e=np.linspace(20,40,2)"
   ]
  },
  {
   "cell_type": "code",
   "execution_count": 28,
   "metadata": {},
   "outputs": [
    {
     "name": "stdout",
     "output_type": "stream",
     "text": [
      "[1 2 3 4 5 6 7 8 9]\n",
      "[20. 40.]\n"
     ]
    }
   ],
   "source": [
    "print(d)\n",
    "print(e)"
   ]
  },
  {
   "cell_type": "code",
   "execution_count": 40,
   "metadata": {},
   "outputs": [],
   "source": [
    "r=np.arange(0,10,2)\n",
    "rr=np.linspace(0,10,10)\n",
    "rrr=np.arange(0,10,7)\n",
    "rrrr=np.linspace(0,10,7)"
   ]
  },
  {
   "cell_type": "code",
   "execution_count": 41,
   "metadata": {},
   "outputs": [
    {
     "name": "stdout",
     "output_type": "stream",
     "text": [
      "[0 2 4 6 8]\n",
      "[ 0.          1.11111111  2.22222222  3.33333333  4.44444444  5.55555556\n",
      "  6.66666667  7.77777778  8.88888889 10.        ]\n",
      "[0 7]\n",
      "[ 0.          1.66666667  3.33333333  5.          6.66666667  8.33333333\n",
      " 10.        ]\n"
     ]
    }
   ],
   "source": [
    "print(r)\n",
    "print(rr)\n",
    "print(rrr)\n",
    "print(rrrr)"
   ]
  },
  {
   "cell_type": "code",
   "execution_count": 42,
   "metadata": {},
   "outputs": [
    {
     "name": "stdout",
     "output_type": "stream",
     "text": [
      "[   2 1000    6]\n"
     ]
    }
   ],
   "source": [
    "aa=np.array([2,4,6])\n",
    "aa[0]\n",
    "aa[1]=1000\n",
    "print(aa)"
   ]
  },
  {
   "cell_type": "code",
   "execution_count": 43,
   "metadata": {},
   "outputs": [],
   "source": [
    "bo=([1,2,3],[4,5,6])"
   ]
  },
  {
   "cell_type": "code",
   "execution_count": 44,
   "metadata": {},
   "outputs": [
    {
     "name": "stdout",
     "output_type": "stream",
     "text": [
      "([1, 2, 3], [4, 5, 6])\n"
     ]
    }
   ],
   "source": [
    "print(bo)"
   ]
  },
  {
   "cell_type": "code",
   "execution_count": 45,
   "metadata": {},
   "outputs": [
    {
     "data": {
      "text/plain": [
       "6"
      ]
     },
     "execution_count": 45,
     "metadata": {},
     "output_type": "execute_result"
    }
   ],
   "source": [
    "bo[1][2]"
   ]
  },
  {
   "cell_type": "code",
   "execution_count": 49,
   "metadata": {},
   "outputs": [
    {
     "data": {
      "text/plain": [
       "3"
      ]
     },
     "execution_count": 49,
     "metadata": {},
     "output_type": "execute_result"
    }
   ],
   "source": [
    "bo[0][2]"
   ]
  },
  {
   "cell_type": "code",
   "execution_count": 56,
   "metadata": {},
   "outputs": [],
   "source": [
    "ko=np.zeros(10)\n",
    "ob=np.size(ko,0)"
   ]
  },
  {
   "cell_type": "code",
   "execution_count": 57,
   "metadata": {},
   "outputs": [
    {
     "name": "stdout",
     "output_type": "stream",
     "text": [
      "10\n"
     ]
    }
   ],
   "source": [
    "print(ob)"
   ]
  },
  {
   "cell_type": "code",
   "execution_count": 58,
   "metadata": {},
   "outputs": [
    {
     "ename": "TypeError",
     "evalue": "tuple indices must be integers or slices, not tuple",
     "output_type": "error",
     "traceback": [
      "\u001b[1;31m---------------------------------------------------------------------------\u001b[0m",
      "\u001b[1;31mTypeError\u001b[0m                                 Traceback (most recent call last)",
      "\u001b[1;32m<ipython-input-58-baf7cbc29805>\u001b[0m in \u001b[0;36m<module>\u001b[1;34m\u001b[0m\n\u001b[1;32m----> 1\u001b[1;33m \u001b[0mx\u001b[0m\u001b[1;33m=\u001b[0m\u001b[0mbo\u001b[0m\u001b[1;33m[\u001b[0m\u001b[1;36m0\u001b[0m\u001b[1;33m:\u001b[0m\u001b[0mob\u001b[0m\u001b[1;33m:\u001b[0m\u001b[1;36m1\u001b[0m\u001b[1;33m,\u001b[0m\u001b[1;36m0\u001b[0m\u001b[1;33m]\u001b[0m\u001b[1;33m\u001b[0m\u001b[1;33m\u001b[0m\u001b[0m\n\u001b[0m\u001b[0;32m      2\u001b[0m \u001b[0my\u001b[0m\u001b[1;33m=\u001b[0m\u001b[0mbo\u001b[0m\u001b[1;33m[\u001b[0m\u001b[1;36m0\u001b[0m\u001b[1;33m:\u001b[0m\u001b[0mob\u001b[0m\u001b[1;33m:\u001b[0m\u001b[1;36m1\u001b[0m\u001b[1;33m,\u001b[0m\u001b[1;36m1\u001b[0m\u001b[1;33m]\u001b[0m\u001b[1;33m\u001b[0m\u001b[1;33m\u001b[0m\u001b[0m\n",
      "\u001b[1;31mTypeError\u001b[0m: tuple indices must be integers or slices, not tuple"
     ]
    }
   ],
   "source": [
    "x=bo[0:ob:1,0]\n",
    "y=bo[0:ob:1,1]"
   ]
  },
  {
   "cell_type": "code",
   "execution_count": 59,
   "metadata": {},
   "outputs": [
    {
     "name": "stdout",
     "output_type": "stream",
     "text": [
      "[ 0  1  2  3  4  5  6  7  8  9 10 11 12 13 14 15 16 17 18 19]\n"
     ]
    }
   ],
   "source": [
    "lo=np.arange(20)\n",
    "print(lo)"
   ]
  },
  {
   "cell_type": "code",
   "execution_count": 65,
   "metadata": {},
   "outputs": [
    {
     "name": "stdout",
     "output_type": "stream",
     "text": [
      "1st [ 0  1  2  3  4  5  6  7  8  9 10 11 12 13 14 15 16 17 18 19]\n",
      "2nd [ 0  1  2  3  4  5  6  7  8  9 10 11 12 13 14 15 16 17 18 19]\n",
      "3rd [ 5  6  7  8  9 10 11]\n",
      "4th [ 5  8 11 14]\n",
      "5th [ 5  6  7  8  9 10 11 12 13 14 15 16 17 18 19]\n",
      "6th [0 1 2 3 4]\n",
      "7th [ 0  5 10 15]\n"
     ]
    }
   ],
   "source": [
    "print(\"1st\",lo[:])\n",
    "print(\"2nd\", lo[::])\n",
    "print(\"3rd\", lo[5:12])\n",
    "print(\"4th\", lo[5:15:3])\n",
    "print(\"5th\", lo[5::])\n",
    "print(\"6th\", lo[:5:])\n",
    "print(\"7th\", lo[::5])"
   ]
  },
  {
   "cell_type": "code",
   "execution_count": 66,
   "metadata": {},
   "outputs": [],
   "source": [
    "kol=np.zeros(10)\n",
    "kol[0:3]=np.zeros(3)"
   ]
  },
  {
   "cell_type": "code",
   "execution_count": 67,
   "metadata": {},
   "outputs": [
    {
     "name": "stdout",
     "output_type": "stream",
     "text": [
      "[0. 0. 0. 0. 0. 0. 0. 0. 0. 0.]\n"
     ]
    }
   ],
   "source": [
    "print(kol)"
   ]
  },
  {
   "cell_type": "code",
   "execution_count": 68,
   "metadata": {},
   "outputs": [
    {
     "data": {
      "text/plain": [
       "array([12, 14, 15])"
      ]
     },
     "execution_count": 68,
     "metadata": {},
     "output_type": "execute_result"
    }
   ],
   "source": [
    "p=np.arange(10,30)\n",
    "pp=[2,4,5]\n",
    "p[pp]"
   ]
  },
  {
   "cell_type": "code",
   "execution_count": 69,
   "metadata": {},
   "outputs": [
    {
     "name": "stdout",
     "output_type": "stream",
     "text": [
      "[10 11 12 13 14 15 16 17 18 19 20 21 22 23 24 25 26 27 28 29]\n"
     ]
    }
   ],
   "source": [
    "print(p)"
   ]
  },
  {
   "cell_type": "code",
   "execution_count": 72,
   "metadata": {},
   "outputs": [],
   "source": [
    "p=np.arange(-10,11)"
   ]
  },
  {
   "cell_type": "code",
   "execution_count": 73,
   "metadata": {},
   "outputs": [
    {
     "name": "stdout",
     "output_type": "stream",
     "text": [
      "[-10  -9  -8  -7  -6  -5  -4  -3  -2  -1   0   1   2   3   4   5   6   7\n",
      "   8   9  10]\n"
     ]
    }
   ],
   "source": [
    "print(p)"
   ]
  },
  {
   "cell_type": "code",
   "execution_count": 74,
   "metadata": {},
   "outputs": [
    {
     "ename": "TypeError",
     "evalue": "'numpy.ndarray' object is not callable",
     "output_type": "error",
     "traceback": [
      "\u001b[1;31m---------------------------------------------------------------------------\u001b[0m",
      "\u001b[1;31mTypeError\u001b[0m                                 Traceback (most recent call last)",
      "\u001b[1;32m<ipython-input-74-98268e2ac08a>\u001b[0m in \u001b[0;36m<module>\u001b[1;34m\u001b[0m\n\u001b[0;32m      1\u001b[0m \u001b[0mii\u001b[0m\u001b[1;33m=\u001b[0m\u001b[1;33m(\u001b[0m\u001b[0mabs\u001b[0m\u001b[1;33m(\u001b[0m\u001b[0mp\u001b[0m\u001b[1;33m)\u001b[0m \u001b[1;33m<\u001b[0m \u001b[1;36m5\u001b[0m\u001b[1;33m)\u001b[0m\u001b[1;33m\u001b[0m\u001b[1;33m\u001b[0m\u001b[0m\n\u001b[1;32m----> 2\u001b[1;33m \u001b[0mpp\u001b[0m \u001b[1;33m=\u001b[0m \u001b[0mp\u001b[0m\u001b[1;33m(\u001b[0m\u001b[0mii\u001b[0m\u001b[1;33m)\u001b[0m\u001b[1;33m\u001b[0m\u001b[1;33m\u001b[0m\u001b[0m\n\u001b[0m",
      "\u001b[1;31mTypeError\u001b[0m: 'numpy.ndarray' object is not callable"
     ]
    }
   ],
   "source": [
    "ii=(abs(p) < 5)\n",
    "pp = p(ii)"
   ]
  },
  {
   "cell_type": "code",
   "execution_count": 75,
   "metadata": {},
   "outputs": [],
   "source": [
    "import numpy as np"
   ]
  },
  {
   "cell_type": "code",
   "execution_count": null,
   "metadata": {},
   "outputs": [],
   "source": [
    "def compute_average_array(temparray):\n",
    "    emptyarray = np.zeros(len(temparray))\n",
    "    for i in range(len(temparray)):\n",
    "        emptyarray\n",
    "    "
   ]
  },
  {
   "cell_type": "code",
   "execution_count": 76,
   "metadata": {},
   "outputs": [
    {
     "name": "stdout",
     "output_type": "stream",
     "text": [
      "6.0\n"
     ]
    }
   ],
   "source": [
    "def average( a , n ): \n",
    "  \n",
    "    # Find sum of array element \n",
    "    sum = 0\n",
    "    for i in range(n): \n",
    "        sum += a[i] \n",
    "      \n",
    "    return sum/n; \n",
    "  \n",
    "# Driver code \n",
    "arr = [10, 2, 3, 4, 5, 6, 7, 8, 9] \n",
    "n = len(arr) \n",
    "print(average(arr, n)) "
   ]
  },
  {
   "cell_type": "code",
   "execution_count": 86,
   "metadata": {},
   "outputs": [],
   "source": [
    "import numpy as np\n",
    "\n",
    "def running_average(x):\n",
    "    \"\"\"\n",
    "    Return cummulative average of an array.\n",
    "    \"\"\"\n",
    "    y = np.zeros(len(x))                    # empty array to store result\n",
    "    current_sum = 0                      # running sum of elements of x\n",
    "    for i in range(len(x)):\n",
    "        current_sum += x[i]                 # increment sum\n",
    "        y = current_sum / (i+1)      # update running average\n",
    "    return y"
   ]
  },
  {
   "cell_type": "code",
   "execution_count": 87,
   "metadata": {},
   "outputs": [
    {
     "data": {
      "text/plain": [
       "6.0"
      ]
     },
     "execution_count": 87,
     "metadata": {},
     "output_type": "execute_result"
    }
   ],
   "source": [
    "xx = [10, 2, 3, 4, 5, 6, 7, 8, 9] \n",
    "running_average(xx)"
   ]
  },
  {
   "cell_type": "code",
   "execution_count": 88,
   "metadata": {},
   "outputs": [],
   "source": [
    "import numpy as np\n",
    "import matplotlib.pyplot as plt"
   ]
  },
  {
   "cell_type": "code",
   "execution_count": 96,
   "metadata": {},
   "outputs": [],
   "source": [
    "xv = np.linspace(0,10,2)\n",
    "yv = np.linspace(0,10,2)\n",
    "X,Y = np.meshgrid(xv,yv)"
   ]
  },
  {
   "cell_type": "code",
   "execution_count": 97,
   "metadata": {},
   "outputs": [],
   "source": [
    "Z=np.cos(X) * np.sin(Y)"
   ]
  },
  {
   "cell_type": "code",
   "execution_count": 100,
   "metadata": {},
   "outputs": [
    {
     "data": {
      "image/png": "[encoded data removed]",
      "text/plain": [
       "<Figure size 432x288 with 1 Axes>"
      ]
     },
     "metadata": {
      "needs_background": "light"
     },
     "output_type": "display_data"
    }
   ],
   "source": [
    "plt.figure()\n",
    "cs = plt.contour(X,Y,Z,40,linewidths=3,colors='k')\n",
    "plt.clabel(cs,fontsize=10)\n",
    "plt.show()"
   ]
  },
  {
   "cell_type": "code",
   "execution_count": 101,
   "metadata": {},
   "outputs": [],
   "source": [
    "a=np.zeros((2,3))\n",
    "b=np.ones((2,3))\n",
    "c=np.hstack([a,b])\n",
    "d=np.vstack([a,b])"
   ]
  },
  {
   "cell_type": "code",
   "execution_count": 102,
   "metadata": {},
   "outputs": [
    {
     "name": "stdout",
     "output_type": "stream",
     "text": [
      "[[0. 0. 0.]\n",
      " [0. 0. 0.]]\n",
      "[[1. 1. 1.]\n",
      " [1. 1. 1.]]\n",
      "[[0. 0. 0. 1. 1. 1.]\n",
      " [0. 0. 0. 1. 1. 1.]]\n",
      "[[0. 0. 0.]\n",
      " [0. 0. 0.]\n",
      " [1. 1. 1.]\n",
      " [1. 1. 1.]]\n"
     ]
    }
   ],
   "source": [
    "print(a)\n",
    "print(b)\n",
    "print(c)\n",
    "print(d)"
   ]
  },
  {
   "cell_type": "code",
   "execution_count": 106,
   "metadata": {},
   "outputs": [
    {
     "name": "stdout",
     "output_type": "stream",
     "text": [
      "[1 2 3]\n",
      "1\n",
      "2\n",
      "6\n"
     ]
    }
   ],
   "source": [
    "a=np.array([[1,2,3],[4,5,6],[7,8,9]])\n",
    "print(a[0])\n",
    "print(a[0][0])\n",
    "print(a[0][1])\n",
    "print(a[1][2])"
   ]
  },
  {
   "cell_type": "code",
   "execution_count": 107,
   "metadata": {},
   "outputs": [
    {
     "name": "stdout",
     "output_type": "stream",
     "text": [
      "2\n",
      "6\n"
     ]
    }
   ],
   "source": [
    "print(a[0,1])\n",
    "print(a[1,2])"
   ]
  },
  {
   "cell_type": "code",
   "execution_count": 138,
   "metadata": {},
   "outputs": [],
   "source": [
    "A=np.array([[1,2,3],[4,5,6]])\n",
    "N=np.size(A,0)\n",
    "x=A[0:N:1,1]\n",
    "y=A[1:N:1,1]"
   ]
  },
  {
   "cell_type": "code",
   "execution_count": 139,
   "metadata": {},
   "outputs": [
    {
     "name": "stdout",
     "output_type": "stream",
     "text": [
      "[2 5]\n",
      "[5]\n"
     ]
    }
   ],
   "source": [
    "print(x)\n",
    "print(y)"
   ]
  },
  {
   "cell_type": "code",
   "execution_count": 140,
   "metadata": {},
   "outputs": [],
   "source": [
    "k=np.arange(-1,2,0.3)"
   ]
  },
  {
   "cell_type": "code",
   "execution_count": 141,
   "metadata": {},
   "outputs": [
    {
     "name": "stdout",
     "output_type": "stream",
     "text": [
      "[-1.  -0.7 -0.4 -0.1  0.2  0.5  0.8  1.1  1.4  1.7]\n"
     ]
    }
   ],
   "source": [
    "print(k)"
   ]
  },
  {
   "cell_type": "code",
   "execution_count": 145,
   "metadata": {},
   "outputs": [
    {
     "name": "stdout",
     "output_type": "stream",
     "text": [
      "a= -1.0000, x= 1.0000\n",
      "a= -0.7000, x= 0.6461\n",
      "a= -0.4000, x= 0.5635\n",
      "a= -0.1000, x= 0.5132\n",
      "a= 0.2000, x= 0.4772\n",
      "a= 0.5000, x= 0.4495\n",
      "a= 0.8000, x= 0.4271\n",
      "a= 1.1000, x= 0.4083\n",
      "a= 1.4000, x= 0.3923\n",
      "a= 1.7000, x= 0.3783\n"
     ]
    }
   ],
   "source": [
    "b,c=2,-1\n",
    "for a in np.arange(-1,2,0.3):\n",
    "    x=(-b+np.sqrt(b**2-4*a*c))/(2*a)\n",
    "    print(\"a= {:.4f}, x= {:.4f}\".format(a,x))"
   ]
  },
  {
   "cell_type": "code",
   "execution_count": 146,
   "metadata": {},
   "outputs": [
    {
     "ename": "SyntaxError",
     "evalue": "can't assign to literal (<ipython-input-146-85a0d1f11525>, line 1)",
     "output_type": "error",
     "traceback": [
      "\u001b[1;36m  File \u001b[1;32m\"<ipython-input-146-85a0d1f11525>\"\u001b[1;36m, line \u001b[1;32m1\u001b[0m\n\u001b[1;33m    N=10, mu=2\u001b[0m\n\u001b[1;37m     ^\u001b[0m\n\u001b[1;31mSyntaxError\u001b[0m\u001b[1;31m:\u001b[0m can't assign to literal\n"
     ]
    }
   ],
   "source": [
    "N=10, mu=2"
   ]
  },
  {
   "cell_type": "code",
   "execution_count": 155,
   "metadata": {},
   "outputs": [],
   "source": [
    "import scipy\n",
    "from scipy.special import factorial\n",
    "N,mu=10,2"
   ]
  },
  {
   "cell_type": "code",
   "execution_count": 156,
   "metadata": {},
   "outputs": [
    {
     "ename": "AttributeError",
     "evalue": "module 'scipy' has no attribute 'factorial'",
     "output_type": "error",
     "traceback": [
      "\u001b[1;31m---------------------------------------------------------------------------\u001b[0m",
      "\u001b[1;31mAttributeError\u001b[0m                            Traceback (most recent call last)",
      "\u001b[1;32m<ipython-input-156-99ef74cefcf4>\u001b[0m in \u001b[0;36m<module>\u001b[1;34m\u001b[0m\n\u001b[0;32m      1\u001b[0m \u001b[0mnlist\u001b[0m\u001b[1;33m=\u001b[0m\u001b[0mnp\u001b[0m\u001b[1;33m.\u001b[0m\u001b[0marange\u001b[0m\u001b[1;33m(\u001b[0m\u001b[0mN\u001b[0m\u001b[1;33m+\u001b[0m\u001b[1;36m1\u001b[0m\u001b[1;33m)\u001b[0m\u001b[1;33m\u001b[0m\u001b[1;33m\u001b[0m\u001b[0m\n\u001b[1;32m----> 2\u001b[1;33m \u001b[0mpoisson\u001b[0m\u001b[1;33m=\u001b[0m\u001b[0mnp\u001b[0m\u001b[1;33m.\u001b[0m\u001b[0mexp\u001b[0m\u001b[1;33m(\u001b[0m\u001b[1;33m-\u001b[0m\u001b[0mmu\u001b[0m\u001b[1;33m)\u001b[0m\u001b[1;33m*\u001b[0m\u001b[1;33m(\u001b[0m\u001b[0mmu\u001b[0m\u001b[1;33m**\u001b[0m\u001b[0mnlist\u001b[0m\u001b[1;33m)\u001b[0m\u001b[1;33m/\u001b[0m\u001b[0msy\u001b[0m\u001b[1;33m.\u001b[0m\u001b[0mfactorial\u001b[0m\u001b[1;33m(\u001b[0m\u001b[0mnlist\u001b[0m\u001b[1;33m)\u001b[0m\u001b[1;33m\u001b[0m\u001b[1;33m\u001b[0m\u001b[0m\n\u001b[0m",
      "\u001b[1;31mAttributeError\u001b[0m: module 'scipy' has no attribute 'factorial'"
     ]
    }
   ],
   "source": [
    "nlist=np.arange(N+1)\n",
    "poisson=np.exp(-mu)*(mu**nlist)/sy.factorial(nlist)"
   ]
  },
  {
   "cell_type": "code",
   "execution_count": 158,
   "metadata": {},
   "outputs": [],
   "source": [
    "import scipy.special"
   ]
  },
  {
   "cell_type": "code",
   "execution_count": 159,
   "metadata": {},
   "outputs": [
    {
     "data": {
      "text/plain": [
       "3628800.0"
      ]
     },
     "execution_count": 159,
     "metadata": {},
     "output_type": "execute_result"
    }
   ],
   "source": [
    "scipy.special.factorial(10)"
   ]
  },
  {
   "cell_type": "code",
   "execution_count": 180,
   "metadata": {},
   "outputs": [],
   "source": [
    "N,mu=10,2"
   ]
  },
  {
   "cell_type": "code",
   "execution_count": 181,
   "metadata": {},
   "outputs": [],
   "source": [
    "nlist=np.arange(N)\n",
    "poisson=np.exp(-mu)*(mu**nlist)/scipy.special.factorial(nlist)"
   ]
  },
  {
   "cell_type": "code",
   "execution_count": 191,
   "metadata": {},
   "outputs": [],
   "source": [
    "def threea(a,b,N):\n",
    "    for x in range(a,b):\n",
    "        y=np.exp(-x**2)\n",
    "        #print(y)\n",
    "        nlist=np.arange(N+1)\n",
    "    #for xx in nlist:\n",
    "        z=(np.exp(-mu)*(mu**nlist))/scipy.special.factorial(nlist)\n",
    "        print(z)"
   ]
  },
  {
   "cell_type": "code",
   "execution_count": 182,
   "metadata": {},
   "outputs": [
    {
     "name": "stdout",
     "output_type": "stream",
     "text": [
      "[1.35335283e-01 2.70670566e-01 2.70670566e-01 1.80447044e-01\n",
      " 9.02235222e-02 3.60894089e-02 1.20298030e-02 3.43708656e-03\n",
      " 8.59271640e-04 1.90949253e-04]\n"
     ]
    }
   ],
   "source": [
    "print(poisson)"
   ]
  },
  {
   "cell_type": "code",
   "execution_count": 192,
   "metadata": {},
   "outputs": [
    {
     "name": "stdout",
     "output_type": "stream",
     "text": [
      "[1.35335283e-01 2.70670566e-01 2.70670566e-01 1.80447044e-01\n",
      " 9.02235222e-02 3.60894089e-02 1.20298030e-02 3.43708656e-03\n",
      " 8.59271640e-04 1.90949253e-04 3.81898506e-05]\n",
      "[1.35335283e-01 2.70670566e-01 2.70670566e-01 1.80447044e-01\n",
      " 9.02235222e-02 3.60894089e-02 1.20298030e-02 3.43708656e-03\n",
      " 8.59271640e-04 1.90949253e-04 3.81898506e-05]\n",
      "[1.35335283e-01 2.70670566e-01 2.70670566e-01 1.80447044e-01\n",
      " 9.02235222e-02 3.60894089e-02 1.20298030e-02 3.43708656e-03\n",
      " 8.59271640e-04 1.90949253e-04 3.81898506e-05]\n",
      "[1.35335283e-01 2.70670566e-01 2.70670566e-01 1.80447044e-01\n",
      " 9.02235222e-02 3.60894089e-02 1.20298030e-02 3.43708656e-03\n",
      " 8.59271640e-04 1.90949253e-04 3.81898506e-05]\n",
      "[1.35335283e-01 2.70670566e-01 2.70670566e-01 1.80447044e-01\n",
      " 9.02235222e-02 3.60894089e-02 1.20298030e-02 3.43708656e-03\n",
      " 8.59271640e-04 1.90949253e-04 3.81898506e-05]\n",
      "[1.35335283e-01 2.70670566e-01 2.70670566e-01 1.80447044e-01\n",
      " 9.02235222e-02 3.60894089e-02 1.20298030e-02 3.43708656e-03\n",
      " 8.59271640e-04 1.90949253e-04 3.81898506e-05]\n",
      "[1.35335283e-01 2.70670566e-01 2.70670566e-01 1.80447044e-01\n",
      " 9.02235222e-02 3.60894089e-02 1.20298030e-02 3.43708656e-03\n",
      " 8.59271640e-04 1.90949253e-04 3.81898506e-05]\n",
      "[1.35335283e-01 2.70670566e-01 2.70670566e-01 1.80447044e-01\n",
      " 9.02235222e-02 3.60894089e-02 1.20298030e-02 3.43708656e-03\n",
      " 8.59271640e-04 1.90949253e-04 3.81898506e-05]\n",
      "[1.35335283e-01 2.70670566e-01 2.70670566e-01 1.80447044e-01\n",
      " 9.02235222e-02 3.60894089e-02 1.20298030e-02 3.43708656e-03\n",
      " 8.59271640e-04 1.90949253e-04 3.81898506e-05]\n"
     ]
    }
   ],
   "source": [
    "threea(1,10,10)"
   ]
  },
  {
   "cell_type": "markdown",
   "metadata": {},
   "source": [
    "np.arange(3) ==> array([0,1,2])\n",
    "<br>\n",
    "np.arange(N) ==> array([0,1,...,N-1])\n",
    "<br>\n",
    "for np.arange(N+1) ==> array([0,1,...,N])"
   ]
  },
  {
   "cell_type": "code",
   "execution_count": 198,
   "metadata": {},
   "outputs": [],
   "source": [
    "w=[1,2,3,4,5,6,7,8]"
   ]
  },
  {
   "cell_type": "code",
   "execution_count": 199,
   "metadata": {},
   "outputs": [
    {
     "ename": "TypeError",
     "evalue": "can only concatenate list (not \"int\") to list",
     "output_type": "error",
     "traceback": [
      "\u001b[1;31m---------------------------------------------------------------------------\u001b[0m",
      "\u001b[1;31mTypeError\u001b[0m                                 Traceback (most recent call last)",
      "\u001b[1;32m<ipython-input-199-e374677a08b9>\u001b[0m in \u001b[0;36m<module>\u001b[1;34m\u001b[0m\n\u001b[0;32m      1\u001b[0m \u001b[1;36m2\u001b[0m\u001b[1;33m*\u001b[0m\u001b[0mw\u001b[0m\u001b[1;33m\u001b[0m\u001b[1;33m\u001b[0m\u001b[0m\n\u001b[1;32m----> 2\u001b[1;33m \u001b[0mw\u001b[0m\u001b[1;33m+\u001b[0m\u001b[1;36m2\u001b[0m\u001b[1;33m\u001b[0m\u001b[1;33m\u001b[0m\u001b[0m\n\u001b[0m\u001b[0;32m      3\u001b[0m \u001b[0mw\u001b[0m\u001b[1;33m*\u001b[0m\u001b[0mw\u001b[0m\u001b[1;33m\u001b[0m\u001b[1;33m\u001b[0m\u001b[0m\n\u001b[0;32m      4\u001b[0m \u001b[0mw\u001b[0m\u001b[1;33m-\u001b[0m\u001b[0mw\u001b[0m\u001b[1;33m\u001b[0m\u001b[1;33m\u001b[0m\u001b[0m\n",
      "\u001b[1;31mTypeError\u001b[0m: can only concatenate list (not \"int\") to list"
     ]
    }
   ],
   "source": [
    "2*w\n",
    "w+2\n",
    "w*w\n",
    "w-w"
   ]
  },
  {
   "cell_type": "code",
   "execution_count": 201,
   "metadata": {},
   "outputs": [
    {
     "name": "stdout",
     "output_type": "stream",
     "text": [
      "[100 400 900]\n",
      "1400\n"
     ]
    }
   ],
   "source": [
    "le=np.array([1,2,3])\n",
    "me=np.array([100,200,300])\n",
    "print(le*me)\n",
    "print(np.dot(le,me))"
   ]
  },
  {
   "cell_type": "code",
   "execution_count": 202,
   "metadata": {},
   "outputs": [
    {
     "data": {
      "text/plain": [
       "<function dir>"
      ]
     },
     "execution_count": 202,
     "metadata": {},
     "output_type": "execute_result"
    }
   ],
   "source": [
    "dir"
   ]
  },
  {
   "cell_type": "code",
   "execution_count": 203,
   "metadata": {},
   "outputs": [
    {
     "name": "stdout",
     "output_type": "stream",
     "text": [
      " Volume in drive C is OS\n",
      " Volume Serial Number is 40A5-B468\n",
      "\n",
      " Directory of C:\\Users\\athar\n",
      "\n",
      "10/01/2020  01:11 AM    <DIR>          .\n",
      "10/01/2020  01:11 AM    <DIR>          ..\n",
      "07/07/2020  05:30 PM    <DIR>          .android\n",
      "07/09/2020  03:52 AM    <DIR>          .astropy\n",
      "07/15/2020  11:33 PM            20,597 .bash_history\n",
      "07/09/2020  03:55 AM    <DIR>          .config\n",
      "08/28/2020  11:00 PM    <DIR>          .dbus-keyrings\n",
      "07/18/2020  01:25 AM    <DIR>          .idlerc\n",
      "09/30/2020  01:43 AM    <DIR>          .ipynb_checkpoints\n",
      "07/13/2020  12:12 AM    <DIR>          .ipython\n",
      "07/07/2020  05:44 PM    <DIR>          .ivy2\n",
      "07/07/2020  05:31 PM    <DIR>          .jdks\n",
      "08/30/2020  09:00 PM    <DIR>          .jupyter\n",
      "07/13/2020  12:12 AM    <DIR>          .matplotlib\n",
      "07/02/2020  12:27 AM    <DIR>          .openjfx\n",
      "08/25/2020  09:48 PM            35,898 .sambox.cache\n",
      "09/12/2020  11:51 PM    <DIR>          .spyder-py3\n",
      "07/13/2020  01:09 AM    <DIR>          .vscode\n",
      "09/22/2020  12:18 AM            14,936 160920W.ipynb\n",
      "10/01/2020  01:11 AM            73,181 300920W.ipynb\n",
      "06/25/2020  06:25 PM    <DIR>          3D Objects\n",
      "07/15/2020  11:33 PM    <DIR>          anaconda3\n",
      "09/12/2020  07:29 PM    <DIR>          Calibre Library\n",
      "07/09/2020  01:39 AM    <DIR>          CLionProjects\n",
      "06/25/2020  06:25 PM    <DIR>          Contacts\n",
      "08/14/2020  02:28 AM    <DIR>          COSMOlogicAppData\n",
      "10/01/2020  03:40 AM    <DIR>          Desktop\n",
      "09/29/2020  02:43 PM    <DIR>          Documents\n",
      "10/02/2020  01:35 AM    <DIR>          Downloads\n",
      "06/25/2020  06:25 PM    <DIR>          Favorites\n",
      "07/07/2020  06:33 PM    <DIR>          IdeaProjects\n",
      "06/25/2020  06:25 PM    <DIR>          Links\n",
      "09/23/2020  02:59 AM                23 miktex-console.lock\n",
      "06/25/2020  06:25 PM    <DIR>          Music\n",
      "09/08/2020  09:47 PM    <DIR>          OneDrive\n",
      "09/23/2020  03:58 AM    <DIR>          Pictures\n",
      "07/09/2020  03:51 AM    <DIR>          PycharmProjects\n",
      "07/07/2020  04:34 PM    <DIR>          Saved Games\n",
      "09/01/2020  12:45 AM    <DIR>          Searches\n",
      "08/14/2020  03:32 AM    <DIR>          TmoleXProject\n",
      "06/25/2020  06:25 PM    <DIR>          Videos\n",
      "               5 File(s)        144,635 bytes\n",
      "              36 Dir(s)  15,047,249,920 bytes free\n"
     ]
    }
   ],
   "source": [
    "ls"
   ]
  },
  {
   "cell_type": "code",
   "execution_count": 204,
   "metadata": {},
   "outputs": [
    {
     "data": {
      "text/plain": [
       "'C:\\\\Users\\\\athar'"
      ]
     },
     "execution_count": 204,
     "metadata": {},
     "output_type": "execute_result"
    }
   ],
   "source": [
    "pwd"
   ]
  },
  {
   "cell_type": "code",
   "execution_count": 205,
   "metadata": {},
   "outputs": [
    {
     "name": "stdout",
     "output_type": "stream",
     "text": [
      "C:\\Users\\athar\\Downloads\n"
     ]
    }
   ],
   "source": [
    "cd Downloads/"
   ]
  },
  {
   "cell_type": "code",
   "execution_count": 206,
   "metadata": {},
   "outputs": [
    {
     "ename": "SyntaxError",
     "evalue": "invalid syntax (<ipython-input-206-6cbc2e5fc0e8>, line 1)",
     "output_type": "error",
     "traceback": [
      "\u001b[1;36m  File \u001b[1;32m\"<ipython-input-206-6cbc2e5fc0e8>\"\u001b[1;36m, line \u001b[1;32m1\u001b[0m\n\u001b[1;33m    cd ../Documents/\u001b[0m\n\u001b[1;37m        ^\u001b[0m\n\u001b[1;31mSyntaxError\u001b[0m\u001b[1;31m:\u001b[0m invalid syntax\n"
     ]
    }
   ],
   "source": [
    "cd ../Documents/\n",
    "cp C://Users/athar/Downloads/data_sets/PMLSdata/01HIVseries/HIVseries.csv ."
   ]
  },
  {
   "cell_type": "code",
   "execution_count": 207,
   "metadata": {},
   "outputs": [
    {
     "name": "stdout",
     "output_type": "stream",
     "text": [
      "C:\\Users\\athar\\Documents\n"
     ]
    }
   ],
   "source": [
    "cd ../Documents/"
   ]
  },
  {
   "cell_type": "code",
   "execution_count": 208,
   "metadata": {},
   "outputs": [
    {
     "data": {
      "text/plain": [
       "'C:\\\\Users\\\\athar\\\\Documents'"
      ]
     },
     "execution_count": 208,
     "metadata": {},
     "output_type": "execute_result"
    }
   ],
   "source": [
    "pwd"
   ]
  },
  {
   "cell_type": "code",
   "execution_count": 210,
   "metadata": {},
   "outputs": [
    {
     "ename": "SyntaxError",
     "evalue": "invalid syntax (<ipython-input-210-14fcac00928a>, line 1)",
     "output_type": "error",
     "traceback": [
      "\u001b[1;36m  File \u001b[1;32m\"<ipython-input-210-14fcac00928a>\"\u001b[1;36m, line \u001b[1;32m1\u001b[0m\n\u001b[1;33m    cp 'C://Users/athar/Downloads/data_sets/PMLSdata/01HIVseries/HIVseries.csv'.\u001b[0m\n\u001b[1;37m                                                                              ^\u001b[0m\n\u001b[1;31mSyntaxError\u001b[0m\u001b[1;31m:\u001b[0m invalid syntax\n"
     ]
    }
   ],
   "source": [
    "cp 'C://Users/athar/Downloads/data_sets/PMLSdata/01HIVseries/HIVseries.csv'."
   ]
  },
  {
   "cell_type": "code",
   "execution_count": 211,
   "metadata": {},
   "outputs": [
    {
     "name": "stdout",
     "output_type": "stream",
     "text": [
      " Volume in drive C is OS\n",
      " Volume Serial Number is 40A5-B468\n",
      "\n",
      " Directory of C:\\Users\\athar\\Documents\n",
      "\n",
      "10/02/2020  01:40 AM    <DIR>          .\n",
      "10/02/2020  01:40 AM    <DIR>          ..\n",
      "09/13/2020  10:42 PM    <DIR>          .ipynb_checkpoints\n",
      "07/01/2020  08:21 PM    <DIR>          Assassin's Creed Origins\n",
      "09/03/2020  01:51 AM               951 calculator_JohnHunt_chap_13.py\n",
      "08/30/2020  06:47 PM             1,238 class_example.py\n",
      "08/05/2020  04:01 AM    <DIR>          Custom Office Templates\n",
      "08/30/2020  06:43 PM               235 factorial.py\n",
      "08/30/2020  09:00 PM               382 function_example_test.py\n",
      "08/30/2020  10:06 PM             1,439 gameofguess.py\n",
      "08/30/2020  10:19 PM               900 gameofguess_book_way.py\n",
      "12/10/2014  07:32 AM               251 HIVseries.csv\n",
      "05/28/2009  03:49 PM               438 HIVseries.mat\n",
      "12/10/2014  08:07 AM               336 HIVseries.npy\n",
      "12/03/2015  02:17 AM               650 HIVseries.npz\n",
      "08/30/2020  10:25 PM             8,328 John Hunt Beginners to Python 3 Chapter 11 -- Functions in Python.ipynb\n",
      "08/30/2020  07:37 PM               685 Lap_times_Gaddis_3_3.py\n",
      "06/19/2020  02:13 PM    <DIR>          MATLAB\n",
      "09/08/2020  11:56 PM            11,632 MondayNight.ipynb\n",
      "09/21/2020  11:01 PM    <DIR>          My Games\n",
      "08/30/2020  06:46 PM               809 nested_loop_print.py\n",
      "08/24/2020  08:00 PM    <DIR>          OneNote Notebooks\n",
      "06/19/2020  04:09 PM    <DIR>          OriginLab\n",
      "09/03/2020  03:01 AM    <DIR>          PDFsam Enhanced Files\n",
      "08/30/2020  06:46 PM               715 price_discount.py\n",
      "08/30/2020  06:38 PM               351 printing_trees.py\n",
      "09/12/2020  11:01 PM               606 Python_Workout_Ex_1.py\n",
      "09/12/2020  11:34 PM               867 Python_Workout_Ex_2.py\n",
      "09/12/2020  11:51 PM               311 Python_Workout_Ex_3.py\n",
      "07/05/2020  03:08 AM    <DIR>          Readiris\n",
      "07/05/2020  03:08 AM    <DIR>          SafeNet Sentinel\n",
      "09/16/2020  01:51 AM    <DIR>          Screenshots\n",
      "08/14/2020  01:46 AM    <DIR>          Sports Interactive\n",
      "08/30/2020  06:14 PM               668 student_average_grade.py\n",
      "08/30/2020  06:14 PM               514 student_average_grade_initial.py\n",
      "09/16/2020  01:30 AM            11,974 SundayNite.ipynb\n",
      "09/08/2020  02:42 AM    <DIR>          The Crew 2\n",
      "08/30/2020  07:04 PM               307 total_calories_Gaddis_3_2.py\n",
      "09/29/2020  02:43 PM    <DIR>          Zoom\n",
      "              23 File(s)         44,587 bytes\n",
      "              16 Dir(s)  14,994,694,144 bytes free\n"
     ]
    }
   ],
   "source": [
    "ls"
   ]
  },
  {
   "cell_type": "code",
   "execution_count": 212,
   "metadata": {},
   "outputs": [],
   "source": [
    "import numpy as np\n",
    "import scipy"
   ]
  },
  {
   "cell_type": "code",
   "execution_count": 213,
   "metadata": {},
   "outputs": [],
   "source": [
    "dataset = np.loadtxt('HIVseries.csv', delimiter = ',')"
   ]
  },
  {
   "cell_type": "code",
   "execution_count": 216,
   "metadata": {},
   "outputs": [],
   "source": [
    "myfile = open(\"HIVseries.csv\")\n",
    "templist = []\n",
    "for i in myfile:\n",
    "    x, y = i.split(',')\n",
    "    templist += (float(x), float(y))\n",
    "myfile.close()\n",
    "data_set = np.array(templist)"
   ]
  },
  {
   "cell_type": "code",
   "execution_count": 217,
   "metadata": {},
   "outputs": [
    {
     "data": {
      "text/plain": [
       "array([0.0000e+00, 1.0610e+05, 8.3100e-02, 9.3240e+04, 1.4650e-01,\n",
       "       1.6672e+05, 2.5870e-01, 1.5378e+05, 4.8280e-01, 1.1880e+05,\n",
       "       7.4480e-01, 1.1690e+05, 9.8170e-01, 1.0957e+05, 1.2563e+00,\n",
       "       1.1135e+05, 1.4926e+00, 7.4388e+04, 1.7299e+00, 8.3291e+04,\n",
       "       1.9915e+00, 6.6435e+04, 3.0011e+00, 3.5408e+04, 4.0109e+00,\n",
       "       2.1125e+04, 5.0090e+00, 2.0450e+04, 5.9943e+00, 1.5798e+04,\n",
       "       7.0028e+00, 4.7852e+03])"
      ]
     },
     "execution_count": 217,
     "metadata": {},
     "output_type": "execute_result"
    }
   ],
   "source": [
    "data_set"
   ]
  },
  {
   "cell_type": "code",
   "execution_count": 221,
   "metadata": {},
   "outputs": [],
   "source": [
    "zz=np.linspace(0,1,90)"
   ]
  },
  {
   "cell_type": "code",
   "execution_count": 225,
   "metadata": {},
   "outputs": [
    {
     "data": {
      "text/plain": [
       "array([ 0.        , -0.01123146, -0.02243598, -0.03358665, -0.04465661,\n",
       "       -0.05561913, -0.06644757, -0.07711549, -0.08759661, -0.0978649 ,\n",
       "       -0.10789457, -0.11766011, -0.12713637, -0.13629849, -0.14512203,\n",
       "       -0.15358295, -0.16165763, -0.16932294, -0.17655622, -0.18333534,\n",
       "       -0.18963873, -0.19544538, -0.20073488, -0.20548746, -0.20968398,\n",
       "       -0.21330597, -0.21633569, -0.21875607, -0.22055082, -0.22170438,\n",
       "       -0.22220197, -0.22202962, -0.22117417, -0.21962328, -0.21736547,\n",
       "       -0.21439012, -0.21068746, -0.20624865, -0.20106571, -0.19513159,\n",
       "       -0.18844015, -0.18098619, -0.17276544, -0.16377456, -0.15401118,\n",
       "       -0.14347386, -0.13216213, -0.12007648, -0.10721832, -0.09359008,\n",
       "       -0.0791951 , -0.06403768, -0.0481231 , -0.03145755, -0.01404819,\n",
       "        0.00409692,  0.02296874,  0.04255737,  0.06285196,  0.08384079,\n",
       "        0.10551123,  0.1278498 ,  0.15084214,  0.17447307,  0.19872657,\n",
       "        0.2235858 ,  0.24903314,  0.27505019,  0.3016178 ,  0.32871609,\n",
       "        0.35632444,  0.38442157,  0.41298552,  0.44199368,  0.47142283,\n",
       "        0.50124916,  0.53144826,  0.56199521,  0.59286457,  0.6240304 ,\n",
       "        0.65546631,  0.68714547,  0.71904067,  0.75112429,  0.78336841,\n",
       "        0.81574479,  0.84822489,  0.88077993,  0.91338094,  0.94599872])"
      ]
     },
     "execution_count": 225,
     "metadata": {},
     "output_type": "execute_result"
    }
   ],
   "source": [
    "aa"
   ]
  },
  {
   "cell_type": "code",
   "execution_count": 222,
   "metadata": {},
   "outputs": [
    {
     "name": "stdout",
     "output_type": "stream",
     "text": [
      "[0.         0.01123596 0.02247191 0.03370787 0.04494382 0.05617978\n",
      " 0.06741573 0.07865169 0.08988764 0.1011236  0.11235955 0.12359551\n",
      " 0.13483146 0.14606742 0.15730337 0.16853933 0.17977528 0.19101124\n",
      " 0.20224719 0.21348315 0.2247191  0.23595506 0.24719101 0.25842697\n",
      " 0.26966292 0.28089888 0.29213483 0.30337079 0.31460674 0.3258427\n",
      " 0.33707865 0.34831461 0.35955056 0.37078652 0.38202247 0.39325843\n",
      " 0.40449438 0.41573034 0.42696629 0.43820225 0.4494382  0.46067416\n",
      " 0.47191011 0.48314607 0.49438202 0.50561798 0.51685393 0.52808989\n",
      " 0.53932584 0.5505618  0.56179775 0.57303371 0.58426966 0.59550562\n",
      " 0.60674157 0.61797753 0.62921348 0.64044944 0.65168539 0.66292135\n",
      " 0.6741573  0.68539326 0.69662921 0.70786517 0.71910112 0.73033708\n",
      " 0.74157303 0.75280899 0.76404494 0.7752809  0.78651685 0.79775281\n",
      " 0.80898876 0.82022472 0.83146067 0.84269663 0.85393258 0.86516854\n",
      " 0.87640449 0.88764045 0.8988764  0.91011236 0.92134831 0.93258427\n",
      " 0.94382022 0.95505618 0.96629213 0.97752809 0.98876404 1.        ]\n"
     ]
    }
   ],
   "source": [
    "print(zz)"
   ]
  },
  {
   "cell_type": "code",
   "execution_count": 224,
   "metadata": {},
   "outputs": [],
   "source": [
    "aa=3*np.sin(zz)**3 - np.sin(zz)"
   ]
  },
  {
   "cell_type": "code",
   "execution_count": null,
   "metadata": {},
   "outputs": [],
   "source": [
    "import numpy as np\n",
    "import matplotlib.pyplot as plt\n",
    "\n",
    "x_min, x_max = -8000, 8000\n",
    "num_points = 15000\n",
    "x_list = np.linspace(x_min, x_max, num_points)\n",
    "y_list = x_list**2\n",
    "\n",
    "plt.figure()\n",
    "#plt.axis('tight')\n",
    "plt.plot(x_list, y_list, 'r', linewidth=3)\n",
    "\n",
    "ax = plt.gca()\n",
    "ax.set_title(\"A Second Order Polynomial\", fontsize=16)\n",
    "ax.set_xlabel(\"$x$\", fontsize=12)\n",
    "ax.set_ylabel(\"$y = x^2$\", fontsize=12)\n",
    "\n",
    "plt.show()"
   ]
  },
  {
   "cell_type": "code",
   "execution_count": null,
   "metadata": {},
   "outputs": [],
   "source": []
  }
 ],
 "metadata": {
  "kernelspec": {
   "display_name": "Python 3",
   "language": "python",
   "name": "python3"
  },
  "language_info": {
   "codemirror_mode": {
    "name": "ipython",
    "version": 3
   },
   "file_extension": ".py",
   "mimetype": "text/x-python",
   "name": "python",
   "nbconvert_exporter": "python",
   "pygments_lexer": "ipython3",
   "version": "3.7.6"
  }
 },
 "nbformat": 4,
 "nbformat_minor": 4
}
