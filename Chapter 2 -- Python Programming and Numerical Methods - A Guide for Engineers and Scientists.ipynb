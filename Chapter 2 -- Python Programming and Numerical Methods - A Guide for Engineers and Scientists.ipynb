{
 "cells": [
  {
   "cell_type": "code",
   "execution_count": 15,
   "metadata": {},
   "outputs": [
    {
     "name": "stdout",
     "output_type": "stream",
     "text": [
      "The factorial of 20 is 2432902008176640000\n"
     ]
    }
   ],
   "source": [
    "def f(n):\n",
    "    import math\n",
    "    temp = math.factorial(n)\n",
    "    print(f\"The factorial of {n} is {temp}\")\n",
    "f(20)"
   ]
  },
  {
   "cell_type": "code",
   "execution_count": 18,
   "metadata": {},
   "outputs": [
    {
     "name": "stdout",
     "output_type": "stream",
     "text": [
      "The volume of cylinder is 125.66370614359172 and the surface area of cylinder is 753.9822368615504.\n"
     ]
    }
   ],
   "source": [
    "def s(rr, hh):\n",
    "    # pi*r*h^2\n",
    "    # 2*pi*r*h + 2*π*r^2\n",
    "    import numpy as np\n",
    "    import math\n",
    "    temp1 = math.pi * rr * math.pow(hh,2) \n",
    "    temp2 = 2*math.pi*rr*hh + 2*math.pi*math.pow(rr,2)\n",
    "    print(f\"The volume of cylinder is {temp1} and the surface area of cylinder is {temp2}.\")\n",
    "    \n",
    "s(10,2)"
   ]
  },
  {
   "cell_type": "code",
   "execution_count": 27,
   "metadata": {},
   "outputs": [
    {
     "name": "stdout",
     "output_type": "stream",
     "text": [
      "4.23606797749979\n",
      "4.23606797749979\n",
      "4.23606797749979\n"
     ]
    }
   ],
   "source": [
    "def distance(tempList = [], *args): \n",
    "    from math import hypot\n",
    "# ptdiff = lambda (p1,p2): (p1[0]-p2[0], p1[1]-p2[1])\n",
    "    for index, item in enumerate(tempList):\n",
    "            ptdiff = lambda p1, p2: (p1[0]-p2[0], p1[1]-p2[1])\n",
    "            diffs = (ptdiff(p1, p2) for p1, p2 in zip (pts, pts[1:]))\n",
    "            path = sum(hypot(*d) for d in  diffs)\n",
    "            print(path)\n",
    "    \n",
    "pts = [(10,10),(9,8),(7,8)]\n",
    "distance(pts)"
   ]
  },
  {
   "cell_type": "code",
   "execution_count": 28,
   "metadata": {},
   "outputs": [
    {
     "name": "stdout",
     "output_type": "stream",
     "text": [
      "Variable   Type        Data/Info\n",
      "--------------------------------\n",
      "distance   function    <function distance at 0x0000015D616C1828>\n",
      "f          function    <function f at 0x0000015D421184C8>\n",
      "math       module      <module 'math' (built-in)>\n",
      "pts        list        n=3\n",
      "s          function    <function s at 0x0000015D61994168>\n",
      "x          int         720\n"
     ]
    }
   ],
   "source": [
    "%whos"
   ]
  },
  {
   "cell_type": "code",
   "execution_count": 35,
   "metadata": {},
   "outputs": [
    {
     "name": "stdout",
     "output_type": "stream",
     "text": [
      "77\n"
     ]
    }
   ],
   "source": [
    "s = \"hohiouhpiouhytgiyufytudftyurdctyucytcyutdrtysreaweA XCYFTCVYUDCFYUDCYUXCiough\"\n",
    "print(len(s))"
   ]
  },
  {
   "cell_type": "code",
   "execution_count": 39,
   "metadata": {},
   "outputs": [
    {
     "name": "stdout",
     "output_type": "stream",
     "text": [
      "great!\n"
     ]
    }
   ],
   "source": [
    "#8. Check if \"Python\" is in \"Python is great!\".\n",
    "#9. Get the last word \"great\" from \"Python is great!\"\n",
    "s = \"Python is great!\"\n",
    "t = \"Python\"\n",
    "\n",
    "t in s\n",
    "print(s[-6:])"
   ]
  },
  {
   "cell_type": "code",
   "execution_count": 58,
   "metadata": {},
   "outputs": [
    {
     "name": "stdout",
     "output_type": "stream",
     "text": [
      "[1, 8, 3, 9, 15]\n",
      "Position: 0 with item: 1\n",
      "Position: 1 with item: 8\n",
      "Position: 2 with item: 3\n",
      "Position: 3 with item: 9\n",
      "Position: 4 with item: 15\n",
      "Position: 5 with item: 4\n",
      "[1, 8, 3, 9, 15, 4]\n",
      "[1, 3, 4, 8, 9, 15]\n",
      "[15, 9, 8, 4, 3, 1]\n",
      "['Python', 'is', 'great!']\n"
     ]
    },
    {
     "ename": "AttributeError",
     "evalue": "'list' object has no attribute 'split'",
     "output_type": "error",
     "traceback": [
      "\u001b[1;31m---------------------------------------------------------------------------\u001b[0m",
      "\u001b[1;31mAttributeError\u001b[0m                            Traceback (most recent call last)",
      "\u001b[1;32m<ipython-input-58-78b02555c1f3>\u001b[0m in \u001b[0;36m<module>\u001b[1;34m\u001b[0m\n\u001b[0;32m     16\u001b[0m \u001b[0mlist\u001b[0m\u001b[1;33m(\u001b[0m\u001b[1;34m\"Python is great\"\u001b[0m\u001b[1;33m)\u001b[0m\u001b[1;33m\u001b[0m\u001b[1;33m\u001b[0m\u001b[0m\n\u001b[0;32m     17\u001b[0m \u001b[0mprint\u001b[0m\u001b[1;33m(\u001b[0m\u001b[0ms\u001b[0m\u001b[1;33m)\u001b[0m\u001b[1;33m\u001b[0m\u001b[1;33m\u001b[0m\u001b[0m\n\u001b[1;32m---> 18\u001b[1;33m \u001b[0ms\u001b[0m\u001b[1;33m=\u001b[0m\u001b[0ms\u001b[0m\u001b[1;33m.\u001b[0m\u001b[0msplit\u001b[0m\u001b[1;33m(\u001b[0m\u001b[1;33m)\u001b[0m\u001b[1;33m\u001b[0m\u001b[1;33m\u001b[0m\u001b[0m\n\u001b[0m\u001b[0;32m     19\u001b[0m \u001b[0mlist1\u001b[0m\u001b[1;33m=\u001b[0m\u001b[0mlist\u001b[0m\u001b[1;33m(\u001b[0m\u001b[0mmap\u001b[0m\u001b[1;33m(\u001b[0m\u001b[0mlist\u001b[0m\u001b[1;33m,\u001b[0m\u001b[0ms\u001b[0m\u001b[1;33m)\u001b[0m\u001b[1;33m)\u001b[0m\u001b[1;33m\u001b[0m\u001b[1;33m\u001b[0m\u001b[0m\n\u001b[0;32m     20\u001b[0m \u001b[0mprint\u001b[0m\u001b[1;33m(\u001b[0m\u001b[0mlist1\u001b[0m\u001b[1;33m)\u001b[0m\u001b[1;33m\u001b[0m\u001b[1;33m\u001b[0m\u001b[0m\n",
      "\u001b[1;31mAttributeError\u001b[0m: 'list' object has no attribute 'split'"
     ]
    }
   ],
   "source": [
    "#10. Assign list [1, 8, 9, 15] to a variable list_a and insert 2 at index 1 using the insert method.\n",
    "#Append 4 to the list_a using the append method.\n",
    "#11. Sort the list_a in problem 10 in ascending order\n",
    "list_a = [1, 8, 9, 15]\n",
    "k = list_a[:]\n",
    "k.insert(2,3)\n",
    "print(k)\n",
    "k.append(4)\n",
    "for i, item in enumerate(k, start = 0):\n",
    "    print(f\"Position: {i} with item: {item}\")\n",
    "print(k)\n",
    "k.sort()\n",
    "print(k)\n",
    "k.sort(reverse = True)\n",
    "print(k)\n",
    "list(\"Python is great\")\n",
    "print(s)\n",
    "s=s.split()\n",
    "list1=list(map(list,s))\n",
    "print(list1)"
   ]
  },
  {
   "cell_type": "code",
   "execution_count": null,
   "metadata": {},
   "outputs": [],
   "source": []
  }
 ],
 "metadata": {
  "kernelspec": {
   "display_name": "Python 3",
   "language": "python",
   "name": "python3"
  },
  "language_info": {
   "codemirror_mode": {
    "name": "ipython",
    "version": 3
   },
   "file_extension": ".py",
   "mimetype": "text/x-python",
   "name": "python",
   "nbconvert_exporter": "python",
   "pygments_lexer": "ipython3",
   "version": "3.7.6"
  }
 },
 "nbformat": 4,
 "nbformat_minor": 4
}
